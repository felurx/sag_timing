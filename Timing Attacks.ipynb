{
 "cells": [
  {
   "cell_type": "markdown",
   "id": "a9caa70c-fa95-4709-b423-becd81f1c3a7",
   "metadata": {},
   "source": [
    "_Vorneweg: Es gibt dazu zum Thema Timing Attacks ein gutes Video von mCoding. Dort wird die Attacke auch erklärt, sie wird auch gezeigt. Im Prinzip wird im Video das selbe gemacht wie das, was ihr hier macht. Wenn ihr also einen Refresher braucht, keine Lust habt das Notebook selber durchzuarbeiten oder hängen bleibt, könnt ihr euch es anschauen: https://www.youtube.com/watch?v=XThL0LP3RjY_\n",
    "\n",
    "Im Impulsvortrag wurde euch erklärt, wie einfache Timing Attacks funktionieren. Hier könnt ihr diese auch einmal selbst ausprobieren! Dazu gebe ich euch ein paar Schritte vor, und ihr könnt den Angriff selbst durchführen.\n",
    "\n",
    "Um euch das ganze ein wenig zu erleichtern (und damit ihr ein Angriffsziel habt), habe ich ein paar Kleinigkeiten vorbereitet."
   ]
  },
  {
   "cell_type": "code",
   "execution_count": 1,
   "id": "973a0756-a39f-4f16-b1b1-404293b78ad6",
   "metadata": {},
   "outputs": [],
   "source": [
    "# Diese muss man importieren. Diese Zelle muss man ein mal ausführen, wenn man das Notebook öffnet\n",
    "from utils import check_password, time_password_check, alphabet\n",
    "# Wenn es hier einen Fehler gibt, stelle bitte sicher dass die utils.py im selben Ordner wie dieses Notebook ist."
   ]
  },
  {
   "cell_type": "markdown",
   "id": "76910e66-c870-4aee-9bca-7363c7548dee",
   "metadata": {},
   "source": [
    "***\n",
    "In utils.py ist auf eine extrem sichere und unknackbare Art und Weise ein Passeort versteckt.\n",
    "Die Funktion `check_password` lässt euch ein mögliches Passwort versuchen und gibt zurück, ob euer Versuch richtig war oder nicht. Hier ein mal zum Ausprobieren:"
   ]
  },
  {
   "cell_type": "code",
   "execution_count": 2,
   "id": "b8c27c1e-4d5c-4892-b6a4-f9ad90b37fad",
   "metadata": {},
   "outputs": [
    {
     "data": {
      "text/plain": [
       "False"
      ]
     },
     "execution_count": 2,
     "metadata": {},
     "output_type": "execute_result"
    }
   ],
   "source": [
    "check_password(\"Hallo\")"
   ]
  },
  {
   "cell_type": "markdown",
   "id": "4beebdff-a67d-4b91-a089-b2f367ae6f36",
   "metadata": {},
   "source": [
    "(Das war es wohl nicht. Wäre der Versuch richtig gewesen, wäre `True` rausgekommen.)\n",
    "\n",
    "***\n",
    "\n",
    "Mit der Funktion `time_password_check` könnt ihr schauen, _wie lange_ es denn dauert, bis `check_password` bei seinem Ergebnis angelangt ist. Sie probiert das ganze einige (tausende) Male aus und gibt euch den Durchschnittswert in Nanosekunden zurück."
   ]
  },
  {
   "cell_type": "code",
   "execution_count": 3,
   "id": "a8ce6f21-f8ff-4601-9c61-fed248219d4f",
   "metadata": {},
   "outputs": [
    {
     "data": {
      "text/plain": [
       "467.28796"
      ]
     },
     "execution_count": 3,
     "metadata": {},
     "output_type": "execute_result"
    }
   ],
   "source": [
    "time_password_check(\"Blubb\")"
   ]
  },
  {
   "cell_type": "markdown",
   "id": "b6ba3b77-90c8-4790-97d9-39488ed46822",
   "metadata": {},
   "source": [
    "***\n",
    "\n",
    "Und zu letzt `alphabet`: Das ist einfach eine Liste, die alle möglichen Buchstaben enthält. (Das Passwort enthält nur diese Buchstaben.) Übrigens ist das Passwort auch maximal 16 Zeichen lang, weil ich zu faul bin die Anleitung und den Code vernünftig zu schreiben."
   ]
  },
  {
   "cell_type": "code",
   "execution_count": 5,
   "id": "eb4fcbbb-601b-4fbc-b75c-97300ce89632",
   "metadata": {},
   "outputs": [
    {
     "name": "stdout",
     "output_type": "stream",
     "text": [
      "['a', 'b', 'c', 'd', 'e', 'f', 'g', 'h', 'i', 'j', 'k', 'l', 'm', 'n', 'o', 'p', 'q', 'r', 's', 't', 'u', 'v', 'w', 'x', 'y', 'z', 'A', 'B', 'C', 'D', 'E', 'F', 'G', 'H', 'I', 'J', 'K', 'L', 'M', 'N', 'O', 'P', 'Q', 'R', 'S', 'T', 'U', 'V', 'W', 'X', 'Y', 'Z']\n"
     ]
    }
   ],
   "source": [
    "print(alphabet)"
   ]
  },
  {
   "cell_type": "markdown",
   "id": "7a35c21d-9cb5-4e83-a24d-57074211c378",
   "metadata": {},
   "source": [
    "***\n",
    "***\n",
    "***\n",
    "\n",
    "So, jetzt also zur Sache!\n",
    "\n",
    "Wie besprochen müssen wir erst mal die Länge ausprobieren. Das machen wir hier, in dem wir einfach alle Längen ein mal ausprobieren.\n",
    "Dein Zug: Schreib eine Schleife, die ein mal ein Passwort mit jeder möglichen Länge probiert, und dann die Länge annimmt, die die meiste Zeit gebraucht hat.\n",
    "\n",
    "Notiz: Hier macht es Sinn, `time_password_check` zu verwenden. In Python kannst du übrigens mit `'a' * 5` den String `'aaaaa'` generieren."
   ]
  },
  {
   "cell_type": "code",
   "execution_count": 8,
   "id": "05d807e0-298a-4af2-aefb-8b14f4a5bfae",
   "metadata": {},
   "outputs": [],
   "source": [
    "... # Hier solltest du eine Liste oder ein Dict erstellen, in der du die Längen speichern kannst.\n",
    "\n",
    "for l in range(1, 16+1): # Für jede Zahl von 1 bis 16... \n",
    "    ... # Hier die Längen ausprobieren, und die Zeit speichern\n",
    "\n",
    "length = ... # Und hier die richtige Länge auswählen"
   ]
  },
  {
   "cell_type": "markdown",
   "id": "73a559d6-dedf-4b5a-abd2-5173d1e545f0",
   "metadata": {},
   "source": [
    "***\n",
    "\n",
    "So, jetzt haben wir hoffentlich die Länge. Jetzt müssen wir eigentlich nur noch genau das selbe machen wie bei der Länge, nur für jeden der Buchstaben: Einfach ein mal alles ausprobieren, und das annehmen das am längsten gebraucht hat."
   ]
  },
  {
   "cell_type": "code",
   "execution_count": null,
   "id": "a6a5f829-d983-407a-aa29-d0ec74a2139d",
   "metadata": {},
   "outputs": [],
   "source": [
    "guess = '_' * length\n",
    "for _ in range(length):\n",
    "    for c in alphabet:\n",
    "        ..."
   ]
  },
  {
   "cell_type": "markdown",
   "id": "3394ae4e-da29-4f92-afd6-a47080755b7e",
   "metadata": {},
   "source": [
    "Na, hast du etwas gefunden?\n",
    "Probier es mal aus! Wenn es nicht geklappt hat, dann lass deinen Code vielleicht einfach noch mal laufen."
   ]
  },
  {
   "cell_type": "code",
   "execution_count": null,
   "id": "652fe70c-f71b-417e-8875-d626d66d8453",
   "metadata": {},
   "outputs": [],
   "source": [
    "check_password(guess)"
   ]
  }
 ],
 "metadata": {
  "kernelspec": {
   "display_name": "Python 3 (ipykernel)",
   "language": "python",
   "name": "python3"
  },
  "language_info": {
   "codemirror_mode": {
    "name": "ipython",
    "version": 3
   },
   "file_extension": ".py",
   "mimetype": "text/x-python",
   "name": "python",
   "nbconvert_exporter": "python",
   "pygments_lexer": "ipython3",
   "version": "3.10.6"
  }
 },
 "nbformat": 4,
 "nbformat_minor": 5
}
